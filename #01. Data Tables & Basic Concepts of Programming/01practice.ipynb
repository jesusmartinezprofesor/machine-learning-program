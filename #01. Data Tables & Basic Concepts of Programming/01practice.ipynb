{
 "cells": [
  {
   "cell_type": "markdown",
   "metadata": {},
   "source": [
    "<font size=\"+5\">#01. Data Tables, Plots & Basic Concepts of Programming</font>"
   ]
  },
  {
   "cell_type": "markdown",
   "metadata": {},
   "source": [
    "# Discipline to Search Solutions in Google"
   ]
  },
  {
   "cell_type": "markdown",
   "metadata": {},
   "source": [
    "> Apply the following steps when **looking for solutions in Google**:\n",
    ">\n",
    "> 1. **Necesity**: How to load an Excel in Python?\n",
    "> 2. **Search in Google**: by keywords\n",
    ">   - `load excel python`\n",
    ">   - ~~how to load excel in python~~\n",
    "> 3. **Solution**: What's the `function()` that loads an Excel in Python?\n",
    ">   - A Function to Programming is what the Atom to Phisics.\n",
    ">   - Every time you want to do something in programming\n",
    ">   - **You will need a `function()`** to make it\n",
    ">   - Theferore, you must **detect parenthesis `()`**\n",
    ">   - Out of all the words that you see in a website\n",
    ">   - Because they indicate the presence of a `function()`."
   ]
  },
  {
   "cell_type": "markdown",
   "metadata": {},
   "source": [
    "# Load the Data"
   ]
  },
  {
   "cell_type": "code",
   "execution_count": 1,
   "metadata": {},
   "outputs": [
    {
     "data": {
      "text/html": [
       "<div>\n",
       "<style scoped>\n",
       "    .dataframe tbody tr th:only-of-type {\n",
       "        vertical-align: middle;\n",
       "    }\n",
       "\n",
       "    .dataframe tbody tr th {\n",
       "        vertical-align: top;\n",
       "    }\n",
       "\n",
       "    .dataframe thead th {\n",
       "        text-align: right;\n",
       "    }\n",
       "</style>\n",
       "<table border=\"1\" class=\"dataframe\">\n",
       "  <thead>\n",
       "    <tr style=\"text-align: right;\">\n",
       "      <th></th>\n",
       "      <th>Country name</th>\n",
       "      <th>Regional indicator</th>\n",
       "      <th>Population 2020</th>\n",
       "      <th>Population 2019</th>\n",
       "      <th>COVID-19 deaths per 100,000 population in 2020</th>\n",
       "      <th>Median age</th>\n",
       "      <th>Island</th>\n",
       "      <th>Index of exposure to COVID-19  infections in other countries as of March 31</th>\n",
       "      <th>Log of average distance to SARS countries</th>\n",
       "      <th>WHO Western Pacific Region</th>\n",
       "      <th>Female head of government</th>\n",
       "      <th>Index of institutional trust</th>\n",
       "      <th>Gini coefficient of income</th>\n",
       "      <th>All-cause death count, 2017</th>\n",
       "      <th>All-cause death count, 2018</th>\n",
       "      <th>All-cause death count, 2019</th>\n",
       "      <th>All-cause death count, 2020</th>\n",
       "      <th>Excess deaths in 2020 per 100,000 population, relative to 2017-2019 average</th>\n",
       "    </tr>\n",
       "  </thead>\n",
       "  <tbody>\n",
       "    <tr>\n",
       "      <th>0</th>\n",
       "      <td>Finland</td>\n",
       "      <td>Western Europe</td>\n",
       "      <td>5540718.0</td>\n",
       "      <td>5520314.0</td>\n",
       "      <td>10.125000</td>\n",
       "      <td>42.799999</td>\n",
       "      <td>0</td>\n",
       "      <td>2.225083</td>\n",
       "      <td>8.926763</td>\n",
       "      <td>0</td>\n",
       "      <td>1</td>\n",
       "      <td>0.549860</td>\n",
       "      <td>25.9</td>\n",
       "      <td>53546.0</td>\n",
       "      <td>54394.0</td>\n",
       "      <td>53821.0</td>\n",
       "      <td>55663.0</td>\n",
       "      <td>31.510042</td>\n",
       "    </tr>\n",
       "    <tr>\n",
       "      <th>1</th>\n",
       "      <td>Denmark</td>\n",
       "      <td>Western Europe</td>\n",
       "      <td>5792203.0</td>\n",
       "      <td>5818553.0</td>\n",
       "      <td>22.409399</td>\n",
       "      <td>42.299999</td>\n",
       "      <td>0</td>\n",
       "      <td>3.953056</td>\n",
       "      <td>9.006084</td>\n",
       "      <td>0</td>\n",
       "      <td>1</td>\n",
       "      <td>0.571761</td>\n",
       "      <td>27.8</td>\n",
       "      <td>53103.0</td>\n",
       "      <td>55076.0</td>\n",
       "      <td>53805.0</td>\n",
       "      <td>55477.0</td>\n",
       "      <td>25.533773</td>\n",
       "    </tr>\n",
       "    <tr>\n",
       "      <th>2</th>\n",
       "      <td>Switzerland</td>\n",
       "      <td>Western Europe</td>\n",
       "      <td>8654618.0</td>\n",
       "      <td>8574832.0</td>\n",
       "      <td>88.334305</td>\n",
       "      <td>43.099998</td>\n",
       "      <td>0</td>\n",
       "      <td>5.583522</td>\n",
       "      <td>9.078127</td>\n",
       "      <td>0</td>\n",
       "      <td>0</td>\n",
       "      <td>0.660001</td>\n",
       "      <td>30.1</td>\n",
       "      <td>66703.0</td>\n",
       "      <td>66888.0</td>\n",
       "      <td>67515.0</td>\n",
       "      <td>77087.0</td>\n",
       "      <td>116.680031</td>\n",
       "    </tr>\n",
       "    <tr>\n",
       "      <th>3</th>\n",
       "      <td>Iceland</td>\n",
       "      <td>Western Europe</td>\n",
       "      <td>341250.0</td>\n",
       "      <td>361313.0</td>\n",
       "      <td>8.498200</td>\n",
       "      <td>37.299999</td>\n",
       "      <td>1</td>\n",
       "      <td>1.649335</td>\n",
       "      <td>9.069892</td>\n",
       "      <td>0</td>\n",
       "      <td>1</td>\n",
       "      <td>0.325369</td>\n",
       "      <td>24.1</td>\n",
       "      <td>2229.0</td>\n",
       "      <td>2247.0</td>\n",
       "      <td>2261.0</td>\n",
       "      <td>2321.0</td>\n",
       "      <td>21.445267</td>\n",
       "    </tr>\n",
       "    <tr>\n",
       "      <th>4</th>\n",
       "      <td>Netherlands</td>\n",
       "      <td>Western Europe</td>\n",
       "      <td>17134873.0</td>\n",
       "      <td>17332850.0</td>\n",
       "      <td>67.260498</td>\n",
       "      <td>43.200001</td>\n",
       "      <td>0</td>\n",
       "      <td>5.573827</td>\n",
       "      <td>9.059903</td>\n",
       "      <td>0</td>\n",
       "      <td>0</td>\n",
       "      <td>0.522208</td>\n",
       "      <td>27.0</td>\n",
       "      <td>149805.0</td>\n",
       "      <td>152991.0</td>\n",
       "      <td>151547.0</td>\n",
       "      <td>171175.0</td>\n",
       "      <td>114.468414</td>\n",
       "    </tr>\n",
       "  </tbody>\n",
       "</table>\n",
       "</div>"
      ],
      "text/plain": [
       "  Country name Regional indicator  Population 2020  Population 2019  \\\n",
       "0      Finland     Western Europe        5540718.0        5520314.0   \n",
       "1      Denmark     Western Europe        5792203.0        5818553.0   \n",
       "2  Switzerland     Western Europe        8654618.0        8574832.0   \n",
       "3      Iceland     Western Europe         341250.0         361313.0   \n",
       "4  Netherlands     Western Europe       17134873.0       17332850.0   \n",
       "\n",
       "   COVID-19 deaths per 100,000 population in 2020  Median age  Island  \\\n",
       "0                                       10.125000   42.799999       0   \n",
       "1                                       22.409399   42.299999       0   \n",
       "2                                       88.334305   43.099998       0   \n",
       "3                                        8.498200   37.299999       1   \n",
       "4                                       67.260498   43.200001       0   \n",
       "\n",
       "   Index of exposure to COVID-19  infections in other countries as of March 31  \\\n",
       "0                                           2.225083                             \n",
       "1                                           3.953056                             \n",
       "2                                           5.583522                             \n",
       "3                                           1.649335                             \n",
       "4                                           5.573827                             \n",
       "\n",
       "   Log of average distance to SARS countries  WHO Western Pacific Region  \\\n",
       "0                                   8.926763                           0   \n",
       "1                                   9.006084                           0   \n",
       "2                                   9.078127                           0   \n",
       "3                                   9.069892                           0   \n",
       "4                                   9.059903                           0   \n",
       "\n",
       "   Female head of government  Index of institutional trust  \\\n",
       "0                          1                      0.549860   \n",
       "1                          1                      0.571761   \n",
       "2                          0                      0.660001   \n",
       "3                          1                      0.325369   \n",
       "4                          0                      0.522208   \n",
       "\n",
       "   Gini coefficient of income  All-cause death count, 2017  \\\n",
       "0                        25.9                      53546.0   \n",
       "1                        27.8                      53103.0   \n",
       "2                        30.1                      66703.0   \n",
       "3                        24.1                       2229.0   \n",
       "4                        27.0                     149805.0   \n",
       "\n",
       "   All-cause death count, 2018  All-cause death count, 2019  \\\n",
       "0                      54394.0                      53821.0   \n",
       "1                      55076.0                      53805.0   \n",
       "2                      66888.0                      67515.0   \n",
       "3                       2247.0                       2261.0   \n",
       "4                     152991.0                     151547.0   \n",
       "\n",
       "   All-cause death count, 2020  \\\n",
       "0                      55663.0   \n",
       "1                      55477.0   \n",
       "2                      77087.0   \n",
       "3                       2321.0   \n",
       "4                     171175.0   \n",
       "\n",
       "   Excess deaths in 2020 per 100,000 population, relative to 2017-2019 average  \n",
       "0                                          31.510042                            \n",
       "1                                          25.533773                            \n",
       "2                                         116.680031                            \n",
       "3                                          21.445267                            \n",
       "4                                         114.468414                            "
      ]
     },
     "execution_count": 1,
     "metadata": {},
     "output_type": "execute_result"
    }
   ],
   "source": [
    "import pandas as pd\n",
    "\n",
    "df = pd.read_excel('df_mortality_regions.xlsx')\n",
    "df.head()"
   ]
  },
  {
   "cell_type": "markdown",
   "metadata": {},
   "source": [
    "# Islands"
   ]
  },
  {
   "cell_type": "markdown",
   "metadata": {},
   "source": [
    "## Number of Islands "
   ]
  },
  {
   "cell_type": "code",
   "execution_count": 17,
   "metadata": {},
   "outputs": [],
   "source": [
    "x=df.Island.value_counts()"
   ]
  },
  {
   "cell_type": "code",
   "execution_count": 18,
   "metadata": {},
   "outputs": [
    {
     "data": {
      "text/plain": [
       "pandas.core.series.Series"
      ]
     },
     "execution_count": 18,
     "metadata": {},
     "output_type": "execute_result"
    }
   ],
   "source": [
    "type(x)"
   ]
  },
  {
   "cell_type": "code",
   "execution_count": 19,
   "metadata": {},
   "outputs": [
    {
     "data": {
      "text/plain": [
       "128"
      ]
     },
     "execution_count": 19,
     "metadata": {},
     "output_type": "execute_result"
    }
   ],
   "source": [
    "x[0] "
   ]
  },
  {
   "cell_type": "code",
   "execution_count": 14,
   "metadata": {},
   "outputs": [
    {
     "data": {
      "text/plain": [
       "20"
      ]
     },
     "execution_count": 14,
     "metadata": {},
     "output_type": "execute_result"
    }
   ],
   "source": [
    "df[\"Island\"].sum()"
   ]
  },
  {
   "cell_type": "code",
   "execution_count": null,
   "metadata": {},
   "outputs": [],
   "source": [
    "a=\"verdad\""
   ]
  },
  {
   "cell_type": "code",
   "execution_count": null,
   "metadata": {},
   "outputs": [],
   "source": [
    "a.c"
   ]
  },
  {
   "cell_type": "code",
   "execution_count": null,
   "metadata": {},
   "outputs": [],
   "source": []
  },
  {
   "cell_type": "code",
   "execution_count": null,
   "metadata": {},
   "outputs": [],
   "source": []
  },
  {
   "cell_type": "code",
   "execution_count": null,
   "metadata": {},
   "outputs": [],
   "source": []
  },
  {
   "cell_type": "code",
   "execution_count": null,
   "metadata": {},
   "outputs": [],
   "source": []
  },
  {
   "cell_type": "code",
   "execution_count": null,
   "metadata": {},
   "outputs": [],
   "source": []
  },
  {
   "cell_type": "code",
   "execution_count": null,
   "metadata": {},
   "outputs": [],
   "source": []
  },
  {
   "cell_type": "code",
   "execution_count": null,
   "metadata": {},
   "outputs": [],
   "source": [
    "#df[\"Island\"].value_counts()"
   ]
  },
  {
   "cell_type": "code",
   "execution_count": 5,
   "metadata": {},
   "outputs": [
    {
     "data": {
      "text/plain": [
       "20"
      ]
     },
     "execution_count": 5,
     "metadata": {},
     "output_type": "execute_result"
    }
   ],
   "source": [
    "@df[\"Island\"].value_counts()[1]"
   ]
  },
  {
   "cell_type": "code",
   "execution_count": 6,
   "metadata": {},
   "outputs": [
    {
     "data": {
      "text/plain": [
       "128"
      ]
     },
     "execution_count": 6,
     "metadata": {},
     "output_type": "execute_result"
    }
   ],
   "source": [
    "#df[\"Island\"].value_counts()[0]"
   ]
  },
  {
   "cell_type": "code",
   "execution_count": 7,
   "metadata": {},
   "outputs": [
    {
     "data": {
      "text/plain": [
       "20"
      ]
     },
     "execution_count": 7,
     "metadata": {},
     "output_type": "execute_result"
    }
   ],
   "source": [
    "#df[\"Island\"].sum()"
   ]
  },
  {
   "cell_type": "code",
   "execution_count": null,
   "metadata": {},
   "outputs": [],
   "source": []
  },
  {
   "cell_type": "markdown",
   "metadata": {},
   "source": [
    "## Which region had more Islands?"
   ]
  },
  {
   "cell_type": "code",
   "execution_count": null,
   "metadata": {},
   "outputs": [],
   "source": []
  },
  {
   "cell_type": "code",
   "execution_count": null,
   "metadata": {},
   "outputs": [],
   "source": []
  },
  {
   "cell_type": "code",
   "execution_count": null,
   "metadata": {},
   "outputs": [],
   "source": []
  },
  {
   "cell_type": "code",
   "execution_count": null,
   "metadata": {},
   "outputs": [],
   "source": []
  },
  {
   "cell_type": "code",
   "execution_count": null,
   "metadata": {},
   "outputs": [],
   "source": []
  },
  {
   "cell_type": "code",
   "execution_count": null,
   "metadata": {},
   "outputs": [],
   "source": []
  },
  {
   "cell_type": "code",
   "execution_count": null,
   "metadata": {},
   "outputs": [],
   "source": []
  },
  {
   "cell_type": "code",
   "execution_count": null,
   "metadata": {},
   "outputs": [],
   "source": []
  },
  {
   "cell_type": "code",
   "execution_count": 8,
   "metadata": {},
   "outputs": [],
   "source": [
    "mask_island = df.Island == 1"
   ]
  },
  {
   "cell_type": "code",
   "execution_count": 12,
   "metadata": {},
   "outputs": [
    {
     "data": {
      "text/plain": [
       "Regional indicator\n",
       "Western Europe                  5\n",
       "Latin America and Caribbean     3\n",
       "Southeast Asia                  3\n",
       "Sub-Saharan Africa              3\n",
       "North America and ANZ           2\n",
       "South Asia                      2\n",
       "East Asia                       1\n",
       "Middle East and North Africa    1\n",
       "dtype: int64"
      ]
     },
     "execution_count": 12,
     "metadata": {},
     "output_type": "execute_result"
    }
   ],
   "source": [
    "df[mask_island].groupby('Regional indicator').size().sort_values(ascending=False)"
   ]
  },
  {
   "cell_type": "code",
   "execution_count": 13,
   "metadata": {},
   "outputs": [
    {
     "data": {
      "text/plain": [
       "Western Europe                  5\n",
       "Southeast Asia                  3\n",
       "Latin America and Caribbean     3\n",
       "Sub-Saharan Africa              3\n",
       "North America and ANZ           2\n",
       "South Asia                      2\n",
       "Middle East and North Africa    1\n",
       "East Asia                       1\n",
       "Name: Regional indicator, dtype: int64"
      ]
     },
     "execution_count": 13,
     "metadata": {},
     "output_type": "execute_result"
    }
   ],
   "source": [
    "df[mask_island][\"Regional indicator\"].value_counts()"
   ]
  },
  {
   "cell_type": "code",
   "execution_count": 17,
   "metadata": {},
   "outputs": [],
   "source": [
    "dfres = df.loc[mask_island,'Regional indicator'].value_counts()"
   ]
  },
  {
   "cell_type": "code",
   "execution_count": 19,
   "metadata": {},
   "outputs": [
    {
     "data": {
      "text/plain": [
       "5"
      ]
     },
     "execution_count": 19,
     "metadata": {},
     "output_type": "execute_result"
    }
   ],
   "source": [
    "dfres[0]"
   ]
  },
  {
   "cell_type": "code",
   "execution_count": 23,
   "metadata": {},
   "outputs": [],
   "source": [
    "region_mas = dfres.index[0]"
   ]
  },
  {
   "cell_type": "markdown",
   "metadata": {},
   "source": [
    "## Show all Columns for these Islands"
   ]
  },
  {
   "cell_type": "code",
   "execution_count": null,
   "metadata": {},
   "outputs": [],
   "source": []
  },
  {
   "cell_type": "code",
   "execution_count": null,
   "metadata": {},
   "outputs": [],
   "source": []
  },
  {
   "cell_type": "code",
   "execution_count": null,
   "metadata": {},
   "outputs": [],
   "source": []
  },
  {
   "cell_type": "code",
   "execution_count": null,
   "metadata": {},
   "outputs": [],
   "source": []
  },
  {
   "cell_type": "code",
   "execution_count": null,
   "metadata": {},
   "outputs": [],
   "source": []
  },
  {
   "cell_type": "code",
   "execution_count": null,
   "metadata": {},
   "outputs": [],
   "source": []
  },
  {
   "cell_type": "code",
   "execution_count": null,
   "metadata": {},
   "outputs": [],
   "source": []
  },
  {
   "cell_type": "code",
   "execution_count": null,
   "metadata": {},
   "outputs": [],
   "source": []
  },
  {
   "cell_type": "code",
   "execution_count": null,
   "metadata": {},
   "outputs": [],
   "source": []
  },
  {
   "cell_type": "code",
   "execution_count": null,
   "metadata": {},
   "outputs": [],
   "source": []
  },
  {
   "cell_type": "code",
   "execution_count": null,
   "metadata": {},
   "outputs": [],
   "source": []
  },
  {
   "cell_type": "code",
   "execution_count": null,
   "metadata": {},
   "outputs": [],
   "source": []
  },
  {
   "cell_type": "code",
   "execution_count": 25,
   "metadata": {},
   "outputs": [],
   "source": [
    "mask_region = df['Regional indicator'] == region_mas"
   ]
  },
  {
   "cell_type": "code",
   "execution_count": 26,
   "metadata": {},
   "outputs": [
    {
     "data": {
      "text/html": [
       "<div>\n",
       "<style scoped>\n",
       "    .dataframe tbody tr th:only-of-type {\n",
       "        vertical-align: middle;\n",
       "    }\n",
       "\n",
       "    .dataframe tbody tr th {\n",
       "        vertical-align: top;\n",
       "    }\n",
       "\n",
       "    .dataframe thead th {\n",
       "        text-align: right;\n",
       "    }\n",
       "</style>\n",
       "<table border=\"1\" class=\"dataframe\">\n",
       "  <thead>\n",
       "    <tr style=\"text-align: right;\">\n",
       "      <th></th>\n",
       "      <th>Country name</th>\n",
       "      <th>Regional indicator</th>\n",
       "      <th>Population 2020</th>\n",
       "      <th>Population 2019</th>\n",
       "      <th>COVID-19 deaths per 100,000 population in 2020</th>\n",
       "      <th>Median age</th>\n",
       "      <th>Island</th>\n",
       "      <th>Index of exposure to COVID-19  infections in other countries as of March 31</th>\n",
       "      <th>Log of average distance to SARS countries</th>\n",
       "      <th>WHO Western Pacific Region</th>\n",
       "      <th>Female head of government</th>\n",
       "      <th>Index of institutional trust</th>\n",
       "      <th>Gini coefficient of income</th>\n",
       "      <th>All-cause death count, 2017</th>\n",
       "      <th>All-cause death count, 2018</th>\n",
       "      <th>All-cause death count, 2019</th>\n",
       "      <th>All-cause death count, 2020</th>\n",
       "      <th>Excess deaths in 2020 per 100,000 population, relative to 2017-2019 average</th>\n",
       "    </tr>\n",
       "  </thead>\n",
       "  <tbody>\n",
       "    <tr>\n",
       "      <th>3</th>\n",
       "      <td>Iceland</td>\n",
       "      <td>Western Europe</td>\n",
       "      <td>341250.0</td>\n",
       "      <td>361313.0</td>\n",
       "      <td>8.498200</td>\n",
       "      <td>37.299999</td>\n",
       "      <td>1</td>\n",
       "      <td>1.649335</td>\n",
       "      <td>9.069892</td>\n",
       "      <td>0</td>\n",
       "      <td>1</td>\n",
       "      <td>0.325369</td>\n",
       "      <td>24.10</td>\n",
       "      <td>2229.0</td>\n",
       "      <td>2247.0</td>\n",
       "      <td>2261.0</td>\n",
       "      <td>2321.0</td>\n",
       "      <td>21.445267</td>\n",
       "    </tr>\n",
       "    <tr>\n",
       "      <th>14</th>\n",
       "      <td>Ireland</td>\n",
       "      <td>Western Europe</td>\n",
       "      <td>4937796.0</td>\n",
       "      <td>4941444.0</td>\n",
       "      <td>45.303600</td>\n",
       "      <td>38.700001</td>\n",
       "      <td>1</td>\n",
       "      <td>3.188102</td>\n",
       "      <td>9.100494</td>\n",
       "      <td>0</td>\n",
       "      <td>0</td>\n",
       "      <td>0.430625</td>\n",
       "      <td>30.60</td>\n",
       "      <td>NaN</td>\n",
       "      <td>30621.0</td>\n",
       "      <td>30728.0</td>\n",
       "      <td>32271.0</td>\n",
       "      <td>32.320301</td>\n",
       "    </tr>\n",
       "    <tr>\n",
       "      <th>16</th>\n",
       "      <td>United Kingdom</td>\n",
       "      <td>Western Europe</td>\n",
       "      <td>67886004.0</td>\n",
       "      <td>66834405.0</td>\n",
       "      <td>108.449501</td>\n",
       "      <td>40.799999</td>\n",
       "      <td>1</td>\n",
       "      <td>5.009473</td>\n",
       "      <td>9.087469</td>\n",
       "      <td>0</td>\n",
       "      <td>0</td>\n",
       "      <td>0.267582</td>\n",
       "      <td>34.07</td>\n",
       "      <td>606874.0</td>\n",
       "      <td>613309.0</td>\n",
       "      <td>600532.0</td>\n",
       "      <td>696705.0</td>\n",
       "      <td>133.313141</td>\n",
       "    </tr>\n",
       "    <tr>\n",
       "      <th>22</th>\n",
       "      <td>Malta</td>\n",
       "      <td>Western Europe</td>\n",
       "      <td>441539.0</td>\n",
       "      <td>502653.0</td>\n",
       "      <td>49.599201</td>\n",
       "      <td>42.400002</td>\n",
       "      <td>1</td>\n",
       "      <td>2.822389</td>\n",
       "      <td>9.096670</td>\n",
       "      <td>0</td>\n",
       "      <td>0</td>\n",
       "      <td>0.402808</td>\n",
       "      <td>28.70</td>\n",
       "      <td>3556.0</td>\n",
       "      <td>3672.0</td>\n",
       "      <td>3684.0</td>\n",
       "      <td>4093.0</td>\n",
       "      <td>96.519936</td>\n",
       "    </tr>\n",
       "    <tr>\n",
       "      <th>38</th>\n",
       "      <td>Cyprus</td>\n",
       "      <td>Western Europe</td>\n",
       "      <td>875899.0</td>\n",
       "      <td>1198575.0</td>\n",
       "      <td>13.586000</td>\n",
       "      <td>37.299999</td>\n",
       "      <td>1</td>\n",
       "      <td>1.907791</td>\n",
       "      <td>8.967679</td>\n",
       "      <td>0</td>\n",
       "      <td>0</td>\n",
       "      <td>0.174157</td>\n",
       "      <td>29.10</td>\n",
       "      <td>6009.0</td>\n",
       "      <td>5798.0</td>\n",
       "      <td>6218.0</td>\n",
       "      <td>6636.0</td>\n",
       "      <td>60.513317</td>\n",
       "    </tr>\n",
       "  </tbody>\n",
       "</table>\n",
       "</div>"
      ],
      "text/plain": [
       "      Country name Regional indicator  Population 2020  Population 2019  \\\n",
       "3          Iceland     Western Europe         341250.0         361313.0   \n",
       "14         Ireland     Western Europe        4937796.0        4941444.0   \n",
       "16  United Kingdom     Western Europe       67886004.0       66834405.0   \n",
       "22           Malta     Western Europe         441539.0         502653.0   \n",
       "38          Cyprus     Western Europe         875899.0        1198575.0   \n",
       "\n",
       "    COVID-19 deaths per 100,000 population in 2020  Median age  Island  \\\n",
       "3                                         8.498200   37.299999       1   \n",
       "14                                       45.303600   38.700001       1   \n",
       "16                                      108.449501   40.799999       1   \n",
       "22                                       49.599201   42.400002       1   \n",
       "38                                       13.586000   37.299999       1   \n",
       "\n",
       "    Index of exposure to COVID-19  infections in other countries as of March 31  \\\n",
       "3                                            1.649335                             \n",
       "14                                           3.188102                             \n",
       "16                                           5.009473                             \n",
       "22                                           2.822389                             \n",
       "38                                           1.907791                             \n",
       "\n",
       "    Log of average distance to SARS countries  WHO Western Pacific Region  \\\n",
       "3                                    9.069892                           0   \n",
       "14                                   9.100494                           0   \n",
       "16                                   9.087469                           0   \n",
       "22                                   9.096670                           0   \n",
       "38                                   8.967679                           0   \n",
       "\n",
       "    Female head of government  Index of institutional trust  \\\n",
       "3                           1                      0.325369   \n",
       "14                          0                      0.430625   \n",
       "16                          0                      0.267582   \n",
       "22                          0                      0.402808   \n",
       "38                          0                      0.174157   \n",
       "\n",
       "    Gini coefficient of income  All-cause death count, 2017  \\\n",
       "3                        24.10                       2229.0   \n",
       "14                       30.60                          NaN   \n",
       "16                       34.07                     606874.0   \n",
       "22                       28.70                       3556.0   \n",
       "38                       29.10                       6009.0   \n",
       "\n",
       "    All-cause death count, 2018  All-cause death count, 2019  \\\n",
       "3                        2247.0                       2261.0   \n",
       "14                      30621.0                      30728.0   \n",
       "16                     613309.0                     600532.0   \n",
       "22                       3672.0                       3684.0   \n",
       "38                       5798.0                       6218.0   \n",
       "\n",
       "    All-cause death count, 2020  \\\n",
       "3                        2321.0   \n",
       "14                      32271.0   \n",
       "16                     696705.0   \n",
       "22                       4093.0   \n",
       "38                       6636.0   \n",
       "\n",
       "    Excess deaths in 2020 per 100,000 population, relative to 2017-2019 average  \n",
       "3                                           21.445267                            \n",
       "14                                          32.320301                            \n",
       "16                                         133.313141                            \n",
       "22                                          96.519936                            \n",
       "38                                          60.513317                            "
      ]
     },
     "execution_count": 26,
     "metadata": {},
     "output_type": "execute_result"
    }
   ],
   "source": [
    "df[mask_island & mask_region]"
   ]
  },
  {
   "cell_type": "code",
   "execution_count": null,
   "metadata": {},
   "outputs": [],
   "source": []
  },
  {
   "cell_type": "code",
   "execution_count": 28,
   "metadata": {},
   "outputs": [
    {
     "data": {
      "text/html": [
       "<div>\n",
       "<style scoped>\n",
       "    .dataframe tbody tr th:only-of-type {\n",
       "        vertical-align: middle;\n",
       "    }\n",
       "\n",
       "    .dataframe tbody tr th {\n",
       "        vertical-align: top;\n",
       "    }\n",
       "\n",
       "    .dataframe thead th {\n",
       "        text-align: right;\n",
       "    }\n",
       "</style>\n",
       "<table border=\"1\" class=\"dataframe\">\n",
       "  <thead>\n",
       "    <tr style=\"text-align: right;\">\n",
       "      <th></th>\n",
       "      <th>Island</th>\n",
       "      <th>Median age</th>\n",
       "    </tr>\n",
       "  </thead>\n",
       "  <tbody>\n",
       "    <tr>\n",
       "      <th>0</th>\n",
       "      <td>0</td>\n",
       "      <td>42.799999</td>\n",
       "    </tr>\n",
       "    <tr>\n",
       "      <th>1</th>\n",
       "      <td>0</td>\n",
       "      <td>42.299999</td>\n",
       "    </tr>\n",
       "    <tr>\n",
       "      <th>2</th>\n",
       "      <td>0</td>\n",
       "      <td>43.099998</td>\n",
       "    </tr>\n",
       "    <tr>\n",
       "      <th>3</th>\n",
       "      <td>1</td>\n",
       "      <td>37.299999</td>\n",
       "    </tr>\n",
       "    <tr>\n",
       "      <th>4</th>\n",
       "      <td>0</td>\n",
       "      <td>43.200001</td>\n",
       "    </tr>\n",
       "  </tbody>\n",
       "</table>\n",
       "</div>"
      ],
      "text/plain": [
       "   Island  Median age\n",
       "0       0   42.799999\n",
       "1       0   42.299999\n",
       "2       0   43.099998\n",
       "3       1   37.299999\n",
       "4       0   43.200001"
      ]
     },
     "execution_count": 28,
     "metadata": {},
     "output_type": "execute_result"
    }
   ],
   "source": [
    "df[[\"Island\",\"Median age\"]][:5]"
   ]
  },
  {
   "cell_type": "code",
   "execution_count": 29,
   "metadata": {},
   "outputs": [
    {
     "data": {
      "text/plain": [
       "Index(['Country name', 'Regional indicator', 'Population 2020',\n",
       "       'Population 2019', 'COVID-19 deaths per 100,000 population in 2020',\n",
       "       'Median age', 'Island',\n",
       "       'Index of exposure to COVID-19  infections in other countries as of March 31',\n",
       "       'Log of average distance to SARS countries',\n",
       "       'WHO Western Pacific Region', 'Female head of government',\n",
       "       'Index of institutional trust', 'Gini coefficient of income',\n",
       "       'All-cause death count, 2017', 'All-cause death count, 2018',\n",
       "       'All-cause death count, 2019', 'All-cause death count, 2020',\n",
       "       'Excess deaths in 2020 per 100,000 population, relative to 2017-2019 average'],\n",
       "      dtype='object')"
      ]
     },
     "execution_count": 29,
     "metadata": {},
     "output_type": "execute_result"
    }
   ],
   "source": [
    "df.keys()"
   ]
  },
  {
   "cell_type": "code",
   "execution_count": 30,
   "metadata": {},
   "outputs": [],
   "source": [
    "isla =df.iloc[:,6]"
   ]
  },
  {
   "cell_type": "code",
   "execution_count": 31,
   "metadata": {},
   "outputs": [
    {
     "data": {
      "text/plain": [
       "0      0\n",
       "1      0\n",
       "2      0\n",
       "3      1\n",
       "4      0\n",
       "      ..\n",
       "143    0\n",
       "144    0\n",
       "145    0\n",
       "146    0\n",
       "147    0\n",
       "Name: Island, Length: 148, dtype: int64"
      ]
     },
     "execution_count": 31,
     "metadata": {},
     "output_type": "execute_result"
    }
   ],
   "source": [
    "isla"
   ]
  },
  {
   "cell_type": "code",
   "execution_count": 42,
   "metadata": {},
   "outputs": [
    {
     "data": {
      "text/plain": [
       "count    148.000000\n",
       "mean       0.135135\n",
       "std        0.343029\n",
       "min        0.000000\n",
       "25%        0.000000\n",
       "50%        0.000000\n",
       "75%        0.000000\n",
       "max        1.000000\n",
       "Name: Island, dtype: float64"
      ]
     },
     "execution_count": 42,
     "metadata": {},
     "output_type": "execute_result"
    }
   ],
   "source": [
    "\n",
    "\n",
    "isla.value_counts()\n",
    "df[\"Island\"].describe()"
   ]
  },
  {
   "cell_type": "code",
   "execution_count": 32,
   "metadata": {},
   "outputs": [
    {
     "data": {
      "text/plain": [
       "0      0\n",
       "1      0\n",
       "2      0\n",
       "3      1\n",
       "4      0\n",
       "      ..\n",
       "143    0\n",
       "144    0\n",
       "145    0\n",
       "146    0\n",
       "147    0\n",
       "Name: Island, Length: 148, dtype: int64"
      ]
     },
     "execution_count": 32,
     "metadata": {},
     "output_type": "execute_result"
    }
   ],
   "source": [
    "df[\"Island\"]"
   ]
  },
  {
   "cell_type": "code",
   "execution_count": null,
   "metadata": {},
   "outputs": [],
   "source": []
  },
  {
   "cell_type": "markdown",
   "metadata": {},
   "source": [
    "## Mean Age of across All Islands?"
   ]
  },
  {
   "cell_type": "code",
   "execution_count": null,
   "metadata": {},
   "outputs": [],
   "source": []
  },
  {
   "cell_type": "code",
   "execution_count": null,
   "metadata": {},
   "outputs": [],
   "source": []
  },
  {
   "cell_type": "code",
   "execution_count": null,
   "metadata": {},
   "outputs": [],
   "source": []
  },
  {
   "cell_type": "code",
   "execution_count": null,
   "metadata": {},
   "outputs": [],
   "source": []
  },
  {
   "cell_type": "code",
   "execution_count": null,
   "metadata": {},
   "outputs": [],
   "source": []
  },
  {
   "cell_type": "code",
   "execution_count": null,
   "metadata": {},
   "outputs": [],
   "source": []
  },
  {
   "cell_type": "code",
   "execution_count": null,
   "metadata": {},
   "outputs": [],
   "source": []
  },
  {
   "cell_type": "code",
   "execution_count": null,
   "metadata": {},
   "outputs": [],
   "source": []
  },
  {
   "cell_type": "code",
   "execution_count": null,
   "metadata": {},
   "outputs": [],
   "source": []
  },
  {
   "cell_type": "code",
   "execution_count": null,
   "metadata": {},
   "outputs": [],
   "source": []
  },
  {
   "cell_type": "code",
   "execution_count": null,
   "metadata": {},
   "outputs": [],
   "source": []
  },
  {
   "cell_type": "code",
   "execution_count": 37,
   "metadata": {},
   "outputs": [
    {
     "data": {
      "text/html": [
       "<div>\n",
       "<style scoped>\n",
       "    .dataframe tbody tr th:only-of-type {\n",
       "        vertical-align: middle;\n",
       "    }\n",
       "\n",
       "    .dataframe tbody tr th {\n",
       "        vertical-align: top;\n",
       "    }\n",
       "\n",
       "    .dataframe thead th {\n",
       "        text-align: right;\n",
       "    }\n",
       "</style>\n",
       "<table border=\"1\" class=\"dataframe\">\n",
       "  <thead>\n",
       "    <tr style=\"text-align: right;\">\n",
       "      <th></th>\n",
       "      <th>Population 2020</th>\n",
       "      <th>Population 2019</th>\n",
       "      <th>COVID-19 deaths per 100,000 population in 2020</th>\n",
       "      <th>Median age</th>\n",
       "      <th>Index of exposure to COVID-19  infections in other countries as of March 31</th>\n",
       "      <th>Log of average distance to SARS countries</th>\n",
       "      <th>WHO Western Pacific Region</th>\n",
       "      <th>Female head of government</th>\n",
       "      <th>Index of institutional trust</th>\n",
       "      <th>Gini coefficient of income</th>\n",
       "      <th>All-cause death count, 2017</th>\n",
       "      <th>All-cause death count, 2018</th>\n",
       "      <th>All-cause death count, 2019</th>\n",
       "      <th>All-cause death count, 2020</th>\n",
       "      <th>Excess deaths in 2020 per 100,000 population, relative to 2017-2019 average</th>\n",
       "    </tr>\n",
       "    <tr>\n",
       "      <th>Island</th>\n",
       "      <th></th>\n",
       "      <th></th>\n",
       "      <th></th>\n",
       "      <th></th>\n",
       "      <th></th>\n",
       "      <th></th>\n",
       "      <th></th>\n",
       "      <th></th>\n",
       "      <th></th>\n",
       "      <th></th>\n",
       "      <th></th>\n",
       "      <th></th>\n",
       "      <th></th>\n",
       "      <th></th>\n",
       "      <th></th>\n",
       "    </tr>\n",
       "  </thead>\n",
       "  <tbody>\n",
       "    <tr>\n",
       "      <th>0</th>\n",
       "      <td>5.352511e+07</td>\n",
       "      <td>5.269472e+07</td>\n",
       "      <td>35.711241</td>\n",
       "      <td>30.919048</td>\n",
       "      <td>1.817770</td>\n",
       "      <td>9.054034</td>\n",
       "      <td>0.070312</td>\n",
       "      <td>0.148438</td>\n",
       "      <td>0.300925</td>\n",
       "      <td>37.244112</td>\n",
       "      <td>263901.764151</td>\n",
       "      <td>267596.662264</td>\n",
       "      <td>268496.843396</td>\n",
       "      <td>318531.392593</td>\n",
       "      <td>123.600004</td>\n",
       "    </tr>\n",
       "    <tr>\n",
       "      <th>1</th>\n",
       "      <td>3.494677e+07</td>\n",
       "      <td>3.463544e+07</td>\n",
       "      <td>15.853360</td>\n",
       "      <td>33.760000</td>\n",
       "      <td>1.351336</td>\n",
       "      <td>8.969772</td>\n",
       "      <td>0.250000</td>\n",
       "      <td>0.150000</td>\n",
       "      <td>0.366019</td>\n",
       "      <td>38.531583</td>\n",
       "      <td>252971.875000</td>\n",
       "      <td>231471.000000</td>\n",
       "      <td>233100.666667</td>\n",
       "      <td>242743.222222</td>\n",
       "      <td>43.188946</td>\n",
       "    </tr>\n",
       "  </tbody>\n",
       "</table>\n",
       "</div>"
      ],
      "text/plain": [
       "        Population 2020  Population 2019  \\\n",
       "Island                                     \n",
       "0          5.352511e+07     5.269472e+07   \n",
       "1          3.494677e+07     3.463544e+07   \n",
       "\n",
       "        COVID-19 deaths per 100,000 population in 2020  Median age  \\\n",
       "Island                                                               \n",
       "0                                            35.711241   30.919048   \n",
       "1                                            15.853360   33.760000   \n",
       "\n",
       "        Index of exposure to COVID-19  infections in other countries as of March 31  \\\n",
       "Island                                                                                \n",
       "0                                                1.817770                             \n",
       "1                                                1.351336                             \n",
       "\n",
       "        Log of average distance to SARS countries  WHO Western Pacific Region  \\\n",
       "Island                                                                          \n",
       "0                                        9.054034                    0.070312   \n",
       "1                                        8.969772                    0.250000   \n",
       "\n",
       "        Female head of government  Index of institutional trust  \\\n",
       "Island                                                            \n",
       "0                        0.148438                      0.300925   \n",
       "1                        0.150000                      0.366019   \n",
       "\n",
       "        Gini coefficient of income  All-cause death count, 2017  \\\n",
       "Island                                                            \n",
       "0                        37.244112                263901.764151   \n",
       "1                        38.531583                252971.875000   \n",
       "\n",
       "        All-cause death count, 2018  All-cause death count, 2019  \\\n",
       "Island                                                             \n",
       "0                     267596.662264                268496.843396   \n",
       "1                     231471.000000                233100.666667   \n",
       "\n",
       "        All-cause death count, 2020  \\\n",
       "Island                                \n",
       "0                     318531.392593   \n",
       "1                     242743.222222   \n",
       "\n",
       "        Excess deaths in 2020 per 100,000 population, relative to 2017-2019 average  \n",
       "Island                                                                               \n",
       "0                                              123.600004                            \n",
       "1                                               43.188946                            "
      ]
     },
     "execution_count": 37,
     "metadata": {},
     "output_type": "execute_result"
    }
   ],
   "source": [
    "df.groupby('Island').mean()"
   ]
  },
  {
   "cell_type": "code",
   "execution_count": 38,
   "metadata": {},
   "outputs": [
    {
     "data": {
      "text/plain": [
       "Island\n",
       "0    30.919048\n",
       "1    33.760000\n",
       "Name: Median age, dtype: float64"
      ]
     },
     "execution_count": 38,
     "metadata": {},
     "output_type": "execute_result"
    }
   ],
   "source": [
    "df.groupby('Island').mean()['Median age']"
   ]
  },
  {
   "cell_type": "code",
   "execution_count": 41,
   "metadata": {},
   "outputs": [
    {
     "data": {
      "text/plain": [
       "<pandas.core.groupby.generic.SeriesGroupBy object at 0x147d80f10>"
      ]
     },
     "execution_count": 41,
     "metadata": {},
     "output_type": "execute_result"
    }
   ],
   "source": [
    "df.groupby('Island')['Median age']"
   ]
  },
  {
   "cell_type": "code",
   "execution_count": 42,
   "metadata": {},
   "outputs": [
    {
     "data": {
      "text/plain": [
       "Island\n",
       "0    30.919048\n",
       "1    33.760000\n",
       "Name: Median age, dtype: float64"
      ]
     },
     "execution_count": 42,
     "metadata": {},
     "output_type": "execute_result"
    }
   ],
   "source": [
    "df.groupby('Island')['Median age'].mean()"
   ]
  },
  {
   "cell_type": "code",
   "execution_count": 43,
   "metadata": {},
   "outputs": [
    {
     "data": {
      "text/plain": [
       "<AxesSubplot:ylabel='Island'>"
      ]
     },
     "execution_count": 43,
     "metadata": {},
     "output_type": "execute_result"
    },
    {
     "data": {
      "image/png": "[encoded data removed]",
      "text/plain": [
       "<Figure size 432x288 with 1 Axes>"
      ]
     },
     "metadata": {},
     "output_type": "display_data"
    }
   ],
   "source": [
    "#import matplotlib.pyplot as plt\n",
    "\n",
    "df[\"Island\"].value_counts().plot(kind=\"pie\")"
   ]
  },
  {
   "cell_type": "code",
   "execution_count": 44,
   "metadata": {},
   "outputs": [
    {
     "data": {
      "text/plain": [
       "<AxesSubplot:ylabel='Island'>"
      ]
     },
     "execution_count": 44,
     "metadata": {},
     "output_type": "execute_result"
    },
    {
     "data": {
      "image/png": "[encoded data removed]",
      "text/plain": [
       "<Figure size 432x288 with 1 Axes>"
      ]
     },
     "metadata": {},
     "output_type": "display_data"
    }
   ],
   "source": [
    "df[\"Island\"].value_counts().plot(kind=\"pie\")"
   ]
  },
  {
   "cell_type": "code",
   "execution_count": null,
   "metadata": {},
   "outputs": [],
   "source": []
  },
  {
   "cell_type": "markdown",
   "metadata": {},
   "source": [
    "# Female Heads of State"
   ]
  },
  {
   "cell_type": "markdown",
   "metadata": {},
   "source": [
    "## Number of Countries with Female Heads of State "
   ]
  },
  {
   "cell_type": "code",
   "execution_count": null,
   "metadata": {},
   "outputs": [],
   "source": []
  },
  {
   "cell_type": "code",
   "execution_count": null,
   "metadata": {},
   "outputs": [],
   "source": []
  },
  {
   "cell_type": "code",
   "execution_count": null,
   "metadata": {},
   "outputs": [],
   "source": []
  },
  {
   "cell_type": "code",
   "execution_count": null,
   "metadata": {},
   "outputs": [],
   "source": []
  },
  {
   "cell_type": "code",
   "execution_count": null,
   "metadata": {},
   "outputs": [],
   "source": []
  },
  {
   "cell_type": "code",
   "execution_count": null,
   "metadata": {},
   "outputs": [],
   "source": []
  },
  {
   "cell_type": "code",
   "execution_count": null,
   "metadata": {},
   "outputs": [],
   "source": []
  },
  {
   "cell_type": "code",
   "execution_count": null,
   "metadata": {},
   "outputs": [],
   "source": []
  },
  {
   "cell_type": "code",
   "execution_count": null,
   "metadata": {},
   "outputs": [],
   "source": []
  },
  {
   "cell_type": "code",
   "execution_count": null,
   "metadata": {},
   "outputs": [],
   "source": []
  },
  {
   "cell_type": "code",
   "execution_count": null,
   "metadata": {},
   "outputs": [],
   "source": []
  },
  {
   "cell_type": "code",
   "execution_count": 45,
   "metadata": {},
   "outputs": [],
   "source": [
    "mask_female = df[\"Female head of government\"] == 1"
   ]
  },
  {
   "cell_type": "code",
   "execution_count": 46,
   "metadata": {},
   "outputs": [
    {
     "data": {
      "text/plain": [
       "(22, 18)"
      ]
     },
     "execution_count": 46,
     "metadata": {},
     "output_type": "execute_result"
    }
   ],
   "source": [
    "df[mask_female].shape"
   ]
  },
  {
   "cell_type": "markdown",
   "metadata": {},
   "source": [
    "## Which region had more Female Heads of State?"
   ]
  },
  {
   "cell_type": "code",
   "execution_count": null,
   "metadata": {},
   "outputs": [],
   "source": []
  },
  {
   "cell_type": "code",
   "execution_count": null,
   "metadata": {},
   "outputs": [],
   "source": []
  },
  {
   "cell_type": "code",
   "execution_count": null,
   "metadata": {},
   "outputs": [],
   "source": []
  },
  {
   "cell_type": "code",
   "execution_count": null,
   "metadata": {},
   "outputs": [],
   "source": []
  },
  {
   "cell_type": "code",
   "execution_count": null,
   "metadata": {},
   "outputs": [],
   "source": []
  },
  {
   "cell_type": "code",
   "execution_count": null,
   "metadata": {},
   "outputs": [],
   "source": []
  },
  {
   "cell_type": "code",
   "execution_count": null,
   "metadata": {},
   "outputs": [],
   "source": []
  },
  {
   "cell_type": "code",
   "execution_count": null,
   "metadata": {},
   "outputs": [],
   "source": []
  },
  {
   "cell_type": "code",
   "execution_count": null,
   "metadata": {},
   "outputs": [],
   "source": []
  },
  {
   "cell_type": "code",
   "execution_count": null,
   "metadata": {},
   "outputs": [],
   "source": []
  },
  {
   "cell_type": "code",
   "execution_count": null,
   "metadata": {},
   "outputs": [],
   "source": []
  },
  {
   "cell_type": "code",
   "execution_count": null,
   "metadata": {},
   "outputs": [],
   "source": []
  },
  {
   "cell_type": "code",
   "execution_count": null,
   "metadata": {},
   "outputs": [],
   "source": []
  },
  {
   "cell_type": "code",
   "execution_count": 47,
   "metadata": {},
   "outputs": [
    {
     "data": {
      "text/plain": [
       "Western Europe                        6\n",
       "Central and Eastern Europe            5\n",
       "Sub-Saharan Africa                    4\n",
       "Southeast Asia                        2\n",
       "South Asia                            2\n",
       "North America and ANZ                 1\n",
       "East Asia                             1\n",
       "Commonwealth of Independent States    1\n",
       "Name: Regional indicator, dtype: int64"
      ]
     },
     "execution_count": 47,
     "metadata": {},
     "output_type": "execute_result"
    }
   ],
   "source": [
    "df[mask_female][\"Regional indicator\"].value_counts()"
   ]
  },
  {
   "cell_type": "code",
   "execution_count": null,
   "metadata": {},
   "outputs": [],
   "source": []
  },
  {
   "cell_type": "markdown",
   "metadata": {},
   "source": [
    "## Show all Columns for these Countries"
   ]
  },
  {
   "cell_type": "code",
   "execution_count": null,
   "metadata": {},
   "outputs": [],
   "source": []
  },
  {
   "cell_type": "code",
   "execution_count": null,
   "metadata": {},
   "outputs": [],
   "source": []
  },
  {
   "cell_type": "code",
   "execution_count": null,
   "metadata": {},
   "outputs": [],
   "source": []
  },
  {
   "cell_type": "code",
   "execution_count": null,
   "metadata": {},
   "outputs": [],
   "source": []
  },
  {
   "cell_type": "code",
   "execution_count": null,
   "metadata": {},
   "outputs": [],
   "source": []
  },
  {
   "cell_type": "code",
   "execution_count": null,
   "metadata": {},
   "outputs": [],
   "source": []
  },
  {
   "cell_type": "code",
   "execution_count": null,
   "metadata": {},
   "outputs": [],
   "source": []
  },
  {
   "cell_type": "code",
   "execution_count": null,
   "metadata": {},
   "outputs": [],
   "source": []
  },
  {
   "cell_type": "code",
   "execution_count": null,
   "metadata": {},
   "outputs": [],
   "source": []
  },
  {
   "cell_type": "code",
   "execution_count": null,
   "metadata": {},
   "outputs": [],
   "source": []
  },
  {
   "cell_type": "code",
   "execution_count": null,
   "metadata": {},
   "outputs": [],
   "source": []
  },
  {
   "cell_type": "code",
   "execution_count": null,
   "metadata": {},
   "outputs": [],
   "source": []
  },
  {
   "cell_type": "code",
   "execution_count": 49,
   "metadata": {},
   "outputs": [
    {
     "data": {
      "text/html": [
       "<div>\n",
       "<style scoped>\n",
       "    .dataframe tbody tr th:only-of-type {\n",
       "        vertical-align: middle;\n",
       "    }\n",
       "\n",
       "    .dataframe tbody tr th {\n",
       "        vertical-align: top;\n",
       "    }\n",
       "\n",
       "    .dataframe thead th {\n",
       "        text-align: right;\n",
       "    }\n",
       "</style>\n",
       "<table border=\"1\" class=\"dataframe\">\n",
       "  <thead>\n",
       "    <tr style=\"text-align: right;\">\n",
       "      <th></th>\n",
       "      <th>Country name</th>\n",
       "      <th>Regional indicator</th>\n",
       "      <th>Population 2020</th>\n",
       "      <th>Population 2019</th>\n",
       "      <th>COVID-19 deaths per 100,000 population in 2020</th>\n",
       "      <th>Median age</th>\n",
       "      <th>Island</th>\n",
       "      <th>Index of exposure to COVID-19  infections in other countries as of March 31</th>\n",
       "      <th>Log of average distance to SARS countries</th>\n",
       "      <th>WHO Western Pacific Region</th>\n",
       "      <th>Female head of government</th>\n",
       "      <th>Index of institutional trust</th>\n",
       "      <th>Gini coefficient of income</th>\n",
       "      <th>All-cause death count, 2017</th>\n",
       "      <th>All-cause death count, 2018</th>\n",
       "      <th>All-cause death count, 2019</th>\n",
       "      <th>All-cause death count, 2020</th>\n",
       "      <th>Excess deaths in 2020 per 100,000 population, relative to 2017-2019 average</th>\n",
       "    </tr>\n",
       "  </thead>\n",
       "  <tbody>\n",
       "    <tr>\n",
       "      <th>0</th>\n",
       "      <td>Finland</td>\n",
       "      <td>Western Europe</td>\n",
       "      <td>5540718.0</td>\n",
       "      <td>5520314.0</td>\n",
       "      <td>10.125000</td>\n",
       "      <td>42.799999</td>\n",
       "      <td>0</td>\n",
       "      <td>2.225083</td>\n",
       "      <td>8.926763</td>\n",
       "      <td>0</td>\n",
       "      <td>1</td>\n",
       "      <td>0.549860</td>\n",
       "      <td>25.900000</td>\n",
       "      <td>53546.0</td>\n",
       "      <td>54394.0</td>\n",
       "      <td>53821.0</td>\n",
       "      <td>55663.0</td>\n",
       "      <td>31.510042</td>\n",
       "    </tr>\n",
       "    <tr>\n",
       "      <th>1</th>\n",
       "      <td>Denmark</td>\n",
       "      <td>Western Europe</td>\n",
       "      <td>5792203.0</td>\n",
       "      <td>5818553.0</td>\n",
       "      <td>22.409399</td>\n",
       "      <td>42.299999</td>\n",
       "      <td>0</td>\n",
       "      <td>3.953056</td>\n",
       "      <td>9.006084</td>\n",
       "      <td>0</td>\n",
       "      <td>1</td>\n",
       "      <td>0.571761</td>\n",
       "      <td>27.800000</td>\n",
       "      <td>53103.0</td>\n",
       "      <td>55076.0</td>\n",
       "      <td>53805.0</td>\n",
       "      <td>55477.0</td>\n",
       "      <td>25.533773</td>\n",
       "    </tr>\n",
       "    <tr>\n",
       "      <th>3</th>\n",
       "      <td>Iceland</td>\n",
       "      <td>Western Europe</td>\n",
       "      <td>341250.0</td>\n",
       "      <td>361313.0</td>\n",
       "      <td>8.498200</td>\n",
       "      <td>37.299999</td>\n",
       "      <td>1</td>\n",
       "      <td>1.649335</td>\n",
       "      <td>9.069892</td>\n",
       "      <td>0</td>\n",
       "      <td>1</td>\n",
       "      <td>0.325369</td>\n",
       "      <td>24.100000</td>\n",
       "      <td>2229.0</td>\n",
       "      <td>2247.0</td>\n",
       "      <td>2261.0</td>\n",
       "      <td>2321.0</td>\n",
       "      <td>21.445267</td>\n",
       "    </tr>\n",
       "    <tr>\n",
       "      <th>5</th>\n",
       "      <td>Norway</td>\n",
       "      <td>Western Europe</td>\n",
       "      <td>5421242.0</td>\n",
       "      <td>5347896.0</td>\n",
       "      <td>8.042400</td>\n",
       "      <td>39.700001</td>\n",
       "      <td>0</td>\n",
       "      <td>2.675678</td>\n",
       "      <td>8.993008</td>\n",
       "      <td>0</td>\n",
       "      <td>1</td>\n",
       "      <td>0.605656</td>\n",
       "      <td>24.800000</td>\n",
       "      <td>40634.0</td>\n",
       "      <td>40716.0</td>\n",
       "      <td>40500.0</td>\n",
       "      <td>41155.0</td>\n",
       "      <td>9.997681</td>\n",
       "    </tr>\n",
       "    <tr>\n",
       "      <th>8</th>\n",
       "      <td>New Zealand</td>\n",
       "      <td>North America and ANZ</td>\n",
       "      <td>4822233.0</td>\n",
       "      <td>4917000.0</td>\n",
       "      <td>0.518400</td>\n",
       "      <td>37.900002</td>\n",
       "      <td>1</td>\n",
       "      <td>0.379029</td>\n",
       "      <td>9.266325</td>\n",
       "      <td>1</td>\n",
       "      <td>1</td>\n",
       "      <td>0.526566</td>\n",
       "      <td>34.100000</td>\n",
       "      <td>33495.0</td>\n",
       "      <td>33053.0</td>\n",
       "      <td>34088.0</td>\n",
       "      <td>33177.0</td>\n",
       "      <td>-7.563882</td>\n",
       "    </tr>\n",
       "    <tr>\n",
       "      <th>12</th>\n",
       "      <td>Germany</td>\n",
       "      <td>Western Europe</td>\n",
       "      <td>83783945.0</td>\n",
       "      <td>83132799.0</td>\n",
       "      <td>40.331100</td>\n",
       "      <td>46.599998</td>\n",
       "      <td>0</td>\n",
       "      <td>4.837829</td>\n",
       "      <td>9.017697</td>\n",
       "      <td>0</td>\n",
       "      <td>1</td>\n",
       "      <td>0.435435</td>\n",
       "      <td>31.100000</td>\n",
       "      <td>929351.0</td>\n",
       "      <td>952295.0</td>\n",
       "      <td>936772.0</td>\n",
       "      <td>1000855.0</td>\n",
       "      <td>73.548416</td>\n",
       "    </tr>\n",
       "    <tr>\n",
       "      <th>23</th>\n",
       "      <td>Taiwan Province of China</td>\n",
       "      <td>East Asia</td>\n",
       "      <td>23816775.0</td>\n",
       "      <td>23780000.0</td>\n",
       "      <td>0.029400</td>\n",
       "      <td>42.200001</td>\n",
       "      <td>0</td>\n",
       "      <td>0.888295</td>\n",
       "      <td>8.087669</td>\n",
       "      <td>1</td>\n",
       "      <td>1</td>\n",
       "      <td>0.157968</td>\n",
       "      <td>29.466667</td>\n",
       "      <td>171242.0</td>\n",
       "      <td>172784.0</td>\n",
       "      <td>176296.0</td>\n",
       "      <td>173156.0</td>\n",
       "      <td>-1.196181</td>\n",
       "    </tr>\n",
       "    <tr>\n",
       "      <th>31</th>\n",
       "      <td>Singapore</td>\n",
       "      <td>Southeast Asia</td>\n",
       "      <td>5850343.0</td>\n",
       "      <td>5703569.0</td>\n",
       "      <td>0.495700</td>\n",
       "      <td>42.400002</td>\n",
       "      <td>1</td>\n",
       "      <td>1.260240</td>\n",
       "      <td>8.425980</td>\n",
       "      <td>1</td>\n",
       "      <td>1</td>\n",
       "      <td>0.868589</td>\n",
       "      <td>45.200000</td>\n",
       "      <td>20905.0</td>\n",
       "      <td>21282.0</td>\n",
       "      <td>21446.0</td>\n",
       "      <td>22000.0</td>\n",
       "      <td>13.657712</td>\n",
       "    </tr>\n",
       "    <tr>\n",
       "      <th>32</th>\n",
       "      <td>Kosovo</td>\n",
       "      <td>Central and Eastern Europe</td>\n",
       "      <td>1932774.0</td>\n",
       "      <td>1794248.0</td>\n",
       "      <td>68.916496</td>\n",
       "      <td>35.000000</td>\n",
       "      <td>0</td>\n",
       "      <td>3.134411</td>\n",
       "      <td>9.014949</td>\n",
       "      <td>0</td>\n",
       "      <td>1</td>\n",
       "      <td>0.169448</td>\n",
       "      <td>29.010000</td>\n",
       "      <td>8738.0</td>\n",
       "      <td>8866.0</td>\n",
       "      <td>9552.0</td>\n",
       "      <td>11108.0</td>\n",
       "      <td>110.329376</td>\n",
       "    </tr>\n",
       "    <tr>\n",
       "      <th>33</th>\n",
       "      <td>Slovakia</td>\n",
       "      <td>Central and Eastern Europe</td>\n",
       "      <td>5459643.0</td>\n",
       "      <td>5454073.0</td>\n",
       "      <td>39.160103</td>\n",
       "      <td>41.200001</td>\n",
       "      <td>0</td>\n",
       "      <td>4.655188</td>\n",
       "      <td>9.018951</td>\n",
       "      <td>0</td>\n",
       "      <td>1</td>\n",
       "      <td>0.195352</td>\n",
       "      <td>23.200000</td>\n",
       "      <td>53702.0</td>\n",
       "      <td>54137.0</td>\n",
       "      <td>53115.0</td>\n",
       "      <td>60277.0</td>\n",
       "      <td>121.419106</td>\n",
       "    </tr>\n",
       "    <tr>\n",
       "      <th>37</th>\n",
       "      <td>Lithuania</td>\n",
       "      <td>Central and Eastern Europe</td>\n",
       "      <td>2722291.0</td>\n",
       "      <td>2786844.0</td>\n",
       "      <td>53.557800</td>\n",
       "      <td>43.500000</td>\n",
       "      <td>0</td>\n",
       "      <td>2.538997</td>\n",
       "      <td>8.944459</td>\n",
       "      <td>0</td>\n",
       "      <td>1</td>\n",
       "      <td>0.189153</td>\n",
       "      <td>36.900000</td>\n",
       "      <td>39990.0</td>\n",
       "      <td>39452.0</td>\n",
       "      <td>38184.0</td>\n",
       "      <td>43824.0</td>\n",
       "      <td>167.551971</td>\n",
       "    </tr>\n",
       "    <tr>\n",
       "      <th>39</th>\n",
       "      <td>Estonia</td>\n",
       "      <td>Central and Eastern Europe</td>\n",
       "      <td>1326539.0</td>\n",
       "      <td>1326590.0</td>\n",
       "      <td>17.263000</td>\n",
       "      <td>42.700001</td>\n",
       "      <td>0</td>\n",
       "      <td>2.365309</td>\n",
       "      <td>8.930442</td>\n",
       "      <td>0</td>\n",
       "      <td>1</td>\n",
       "      <td>0.270277</td>\n",
       "      <td>30.600000</td>\n",
       "      <td>15476.0</td>\n",
       "      <td>15684.0</td>\n",
       "      <td>15332.0</td>\n",
       "      <td>16206.0</td>\n",
       "      <td>53.421223</td>\n",
       "    </tr>\n",
       "    <tr>\n",
       "      <th>47</th>\n",
       "      <td>Serbia</td>\n",
       "      <td>Central and Eastern Europe</td>\n",
       "      <td>6804596.0</td>\n",
       "      <td>6944975.0</td>\n",
       "      <td>47.188698</td>\n",
       "      <td>41.200001</td>\n",
       "      <td>0</td>\n",
       "      <td>3.134411</td>\n",
       "      <td>9.014949</td>\n",
       "      <td>0</td>\n",
       "      <td>1</td>\n",
       "      <td>0.220901</td>\n",
       "      <td>37.800000</td>\n",
       "      <td>103722.0</td>\n",
       "      <td>101655.0</td>\n",
       "      <td>102131.0</td>\n",
       "      <td>114954.0</td>\n",
       "      <td>181.115997</td>\n",
       "    </tr>\n",
       "    <tr>\n",
       "      <th>67</th>\n",
       "      <td>Greece</td>\n",
       "      <td>Western Europe</td>\n",
       "      <td>10423056.0</td>\n",
       "      <td>10716322.0</td>\n",
       "      <td>46.416298</td>\n",
       "      <td>45.299999</td>\n",
       "      <td>0</td>\n",
       "      <td>2.327332</td>\n",
       "      <td>9.025694</td>\n",
       "      <td>0</td>\n",
       "      <td>1</td>\n",
       "      <td>0.124216</td>\n",
       "      <td>32.300000</td>\n",
       "      <td>124069.0</td>\n",
       "      <td>119952.0</td>\n",
       "      <td>124538.0</td>\n",
       "      <td>132966.0</td>\n",
       "      <td>95.679260</td>\n",
       "    </tr>\n",
       "    <tr>\n",
       "      <th>86</th>\n",
       "      <td>Nepal</td>\n",
       "      <td>South Asia</td>\n",
       "      <td>29136808.0</td>\n",
       "      <td>28608710.0</td>\n",
       "      <td>6.369900</td>\n",
       "      <td>25.000000</td>\n",
       "      <td>0</td>\n",
       "      <td>0.877291</td>\n",
       "      <td>8.417630</td>\n",
       "      <td>0</td>\n",
       "      <td>1</td>\n",
       "      <td>0.392217</td>\n",
       "      <td>32.840000</td>\n",
       "      <td>NaN</td>\n",
       "      <td>NaN</td>\n",
       "      <td>NaN</td>\n",
       "      <td>NaN</td>\n",
       "      <td>NaN</td>\n",
       "    </tr>\n",
       "    <tr>\n",
       "      <th>100</th>\n",
       "      <td>Bangladesh</td>\n",
       "      <td>South Asia</td>\n",
       "      <td>164689383.0</td>\n",
       "      <td>163046161.0</td>\n",
       "      <td>4.589900</td>\n",
       "      <td>27.500000</td>\n",
       "      <td>0</td>\n",
       "      <td>0.823931</td>\n",
       "      <td>8.348938</td>\n",
       "      <td>0</td>\n",
       "      <td>1</td>\n",
       "      <td>0.576998</td>\n",
       "      <td>43.972500</td>\n",
       "      <td>NaN</td>\n",
       "      <td>NaN</td>\n",
       "      <td>NaN</td>\n",
       "      <td>NaN</td>\n",
       "      <td>NaN</td>\n",
       "    </tr>\n",
       "    <tr>\n",
       "      <th>107</th>\n",
       "      <td>Georgia</td>\n",
       "      <td>Commonwealth of Independent States</td>\n",
       "      <td>3989175.0</td>\n",
       "      <td>3720382.0</td>\n",
       "      <td>62.794899</td>\n",
       "      <td>38.700001</td>\n",
       "      <td>0</td>\n",
       "      <td>1.705543</td>\n",
       "      <td>8.850701</td>\n",
       "      <td>0</td>\n",
       "      <td>1</td>\n",
       "      <td>0.198271</td>\n",
       "      <td>37.940000</td>\n",
       "      <td>NaN</td>\n",
       "      <td>NaN</td>\n",
       "      <td>NaN</td>\n",
       "      <td>NaN</td>\n",
       "      <td>NaN</td>\n",
       "    </tr>\n",
       "    <tr>\n",
       "      <th>111</th>\n",
       "      <td>Gabon</td>\n",
       "      <td>Sub-Saharan Africa</td>\n",
       "      <td>2225728.0</td>\n",
       "      <td>2172579.0</td>\n",
       "      <td>2.875500</td>\n",
       "      <td>23.100000</td>\n",
       "      <td>0</td>\n",
       "      <td>0.864660</td>\n",
       "      <td>9.304911</td>\n",
       "      <td>0</td>\n",
       "      <td>1</td>\n",
       "      <td>0.103891</td>\n",
       "      <td>38.020000</td>\n",
       "      <td>NaN</td>\n",
       "      <td>NaN</td>\n",
       "      <td>NaN</td>\n",
       "      <td>NaN</td>\n",
       "      <td>NaN</td>\n",
       "    </tr>\n",
       "    <tr>\n",
       "      <th>123</th>\n",
       "      <td>Namibia</td>\n",
       "      <td>Sub-Saharan Africa</td>\n",
       "      <td>2540916.0</td>\n",
       "      <td>2494530.0</td>\n",
       "      <td>8.068000</td>\n",
       "      <td>22.000000</td>\n",
       "      <td>0</td>\n",
       "      <td>0.625211</td>\n",
       "      <td>9.349452</td>\n",
       "      <td>0</td>\n",
       "      <td>1</td>\n",
       "      <td>0.310684</td>\n",
       "      <td>57.535000</td>\n",
       "      <td>NaN</td>\n",
       "      <td>NaN</td>\n",
       "      <td>NaN</td>\n",
       "      <td>NaN</td>\n",
       "      <td>NaN</td>\n",
       "    </tr>\n",
       "    <tr>\n",
       "      <th>125</th>\n",
       "      <td>Myanmar</td>\n",
       "      <td>Southeast Asia</td>\n",
       "      <td>54409794.0</td>\n",
       "      <td>54045420.0</td>\n",
       "      <td>4.929300</td>\n",
       "      <td>29.100000</td>\n",
       "      <td>0</td>\n",
       "      <td>0.759283</td>\n",
       "      <td>8.298598</td>\n",
       "      <td>0</td>\n",
       "      <td>1</td>\n",
       "      <td>0.621468</td>\n",
       "      <td>38.070000</td>\n",
       "      <td>NaN</td>\n",
       "      <td>NaN</td>\n",
       "      <td>NaN</td>\n",
       "      <td>NaN</td>\n",
       "      <td>NaN</td>\n",
       "    </tr>\n",
       "    <tr>\n",
       "      <th>131</th>\n",
       "      <td>Ethiopia</td>\n",
       "      <td>Sub-Saharan Africa</td>\n",
       "      <td>114963583.0</td>\n",
       "      <td>112078730.0</td>\n",
       "      <td>1.672700</td>\n",
       "      <td>19.799999</td>\n",
       "      <td>0</td>\n",
       "      <td>0.915070</td>\n",
       "      <td>9.047482</td>\n",
       "      <td>0</td>\n",
       "      <td>1</td>\n",
       "      <td>0.396865</td>\n",
       "      <td>33.497500</td>\n",
       "      <td>NaN</td>\n",
       "      <td>NaN</td>\n",
       "      <td>NaN</td>\n",
       "      <td>NaN</td>\n",
       "      <td>NaN</td>\n",
       "    </tr>\n",
       "    <tr>\n",
       "      <th>134</th>\n",
       "      <td>Togo</td>\n",
       "      <td>Sub-Saharan Africa</td>\n",
       "      <td>8278737.0</td>\n",
       "      <td>8082366.0</td>\n",
       "      <td>0.821400</td>\n",
       "      <td>19.400000</td>\n",
       "      <td>0</td>\n",
       "      <td>0.966354</td>\n",
       "      <td>9.329301</td>\n",
       "      <td>0</td>\n",
       "      <td>1</td>\n",
       "      <td>0.212306</td>\n",
       "      <td>43.060000</td>\n",
       "      <td>NaN</td>\n",
       "      <td>NaN</td>\n",
       "      <td>NaN</td>\n",
       "      <td>NaN</td>\n",
       "      <td>NaN</td>\n",
       "    </tr>\n",
       "  </tbody>\n",
       "</table>\n",
       "</div>"
      ],
      "text/plain": [
       "                 Country name                  Regional indicator  \\\n",
       "0                     Finland                      Western Europe   \n",
       "1                     Denmark                      Western Europe   \n",
       "3                     Iceland                      Western Europe   \n",
       "5                      Norway                      Western Europe   \n",
       "8                 New Zealand               North America and ANZ   \n",
       "12                    Germany                      Western Europe   \n",
       "23   Taiwan Province of China                           East Asia   \n",
       "31                  Singapore                      Southeast Asia   \n",
       "32                     Kosovo          Central and Eastern Europe   \n",
       "33                   Slovakia          Central and Eastern Europe   \n",
       "37                  Lithuania          Central and Eastern Europe   \n",
       "39                    Estonia          Central and Eastern Europe   \n",
       "47                     Serbia          Central and Eastern Europe   \n",
       "67                     Greece                      Western Europe   \n",
       "86                      Nepal                          South Asia   \n",
       "100                Bangladesh                          South Asia   \n",
       "107                   Georgia  Commonwealth of Independent States   \n",
       "111                     Gabon                  Sub-Saharan Africa   \n",
       "123                   Namibia                  Sub-Saharan Africa   \n",
       "125                   Myanmar                      Southeast Asia   \n",
       "131                  Ethiopia                  Sub-Saharan Africa   \n",
       "134                      Togo                  Sub-Saharan Africa   \n",
       "\n",
       "     Population 2020  Population 2019  \\\n",
       "0          5540718.0        5520314.0   \n",
       "1          5792203.0        5818553.0   \n",
       "3           341250.0         361313.0   \n",
       "5          5421242.0        5347896.0   \n",
       "8          4822233.0        4917000.0   \n",
       "12        83783945.0       83132799.0   \n",
       "23        23816775.0       23780000.0   \n",
       "31         5850343.0        5703569.0   \n",
       "32         1932774.0        1794248.0   \n",
       "33         5459643.0        5454073.0   \n",
       "37         2722291.0        2786844.0   \n",
       "39         1326539.0        1326590.0   \n",
       "47         6804596.0        6944975.0   \n",
       "67        10423056.0       10716322.0   \n",
       "86        29136808.0       28608710.0   \n",
       "100      164689383.0      163046161.0   \n",
       "107        3989175.0        3720382.0   \n",
       "111        2225728.0        2172579.0   \n",
       "123        2540916.0        2494530.0   \n",
       "125       54409794.0       54045420.0   \n",
       "131      114963583.0      112078730.0   \n",
       "134        8278737.0        8082366.0   \n",
       "\n",
       "     COVID-19 deaths per 100,000 population in 2020  Median age  Island  \\\n",
       "0                                         10.125000   42.799999       0   \n",
       "1                                         22.409399   42.299999       0   \n",
       "3                                          8.498200   37.299999       1   \n",
       "5                                          8.042400   39.700001       0   \n",
       "8                                          0.518400   37.900002       1   \n",
       "12                                        40.331100   46.599998       0   \n",
       "23                                         0.029400   42.200001       0   \n",
       "31                                         0.495700   42.400002       1   \n",
       "32                                        68.916496   35.000000       0   \n",
       "33                                        39.160103   41.200001       0   \n",
       "37                                        53.557800   43.500000       0   \n",
       "39                                        17.263000   42.700001       0   \n",
       "47                                        47.188698   41.200001       0   \n",
       "67                                        46.416298   45.299999       0   \n",
       "86                                         6.369900   25.000000       0   \n",
       "100                                        4.589900   27.500000       0   \n",
       "107                                       62.794899   38.700001       0   \n",
       "111                                        2.875500   23.100000       0   \n",
       "123                                        8.068000   22.000000       0   \n",
       "125                                        4.929300   29.100000       0   \n",
       "131                                        1.672700   19.799999       0   \n",
       "134                                        0.821400   19.400000       0   \n",
       "\n",
       "     Index of exposure to COVID-19  infections in other countries as of March 31  \\\n",
       "0                                             2.225083                             \n",
       "1                                             3.953056                             \n",
       "3                                             1.649335                             \n",
       "5                                             2.675678                             \n",
       "8                                             0.379029                             \n",
       "12                                            4.837829                             \n",
       "23                                            0.888295                             \n",
       "31                                            1.260240                             \n",
       "32                                            3.134411                             \n",
       "33                                            4.655188                             \n",
       "37                                            2.538997                             \n",
       "39                                            2.365309                             \n",
       "47                                            3.134411                             \n",
       "67                                            2.327332                             \n",
       "86                                            0.877291                             \n",
       "100                                           0.823931                             \n",
       "107                                           1.705543                             \n",
       "111                                           0.864660                             \n",
       "123                                           0.625211                             \n",
       "125                                           0.759283                             \n",
       "131                                           0.915070                             \n",
       "134                                           0.966354                             \n",
       "\n",
       "     Log of average distance to SARS countries  WHO Western Pacific Region  \\\n",
       "0                                     8.926763                           0   \n",
       "1                                     9.006084                           0   \n",
       "3                                     9.069892                           0   \n",
       "5                                     8.993008                           0   \n",
       "8                                     9.266325                           1   \n",
       "12                                    9.017697                           0   \n",
       "23                                    8.087669                           1   \n",
       "31                                    8.425980                           1   \n",
       "32                                    9.014949                           0   \n",
       "33                                    9.018951                           0   \n",
       "37                                    8.944459                           0   \n",
       "39                                    8.930442                           0   \n",
       "47                                    9.014949                           0   \n",
       "67                                    9.025694                           0   \n",
       "86                                    8.417630                           0   \n",
       "100                                   8.348938                           0   \n",
       "107                                   8.850701                           0   \n",
       "111                                   9.304911                           0   \n",
       "123                                   9.349452                           0   \n",
       "125                                   8.298598                           0   \n",
       "131                                   9.047482                           0   \n",
       "134                                   9.329301                           0   \n",
       "\n",
       "     Female head of government  Index of institutional trust  \\\n",
       "0                            1                      0.549860   \n",
       "1                            1                      0.571761   \n",
       "3                            1                      0.325369   \n",
       "5                            1                      0.605656   \n",
       "8                            1                      0.526566   \n",
       "12                           1                      0.435435   \n",
       "23                           1                      0.157968   \n",
       "31                           1                      0.868589   \n",
       "32                           1                      0.169448   \n",
       "33                           1                      0.195352   \n",
       "37                           1                      0.189153   \n",
       "39                           1                      0.270277   \n",
       "47                           1                      0.220901   \n",
       "67                           1                      0.124216   \n",
       "86                           1                      0.392217   \n",
       "100                          1                      0.576998   \n",
       "107                          1                      0.198271   \n",
       "111                          1                      0.103891   \n",
       "123                          1                      0.310684   \n",
       "125                          1                      0.621468   \n",
       "131                          1                      0.396865   \n",
       "134                          1                      0.212306   \n",
       "\n",
       "     Gini coefficient of income  All-cause death count, 2017  \\\n",
       "0                     25.900000                      53546.0   \n",
       "1                     27.800000                      53103.0   \n",
       "3                     24.100000                       2229.0   \n",
       "5                     24.800000                      40634.0   \n",
       "8                     34.100000                      33495.0   \n",
       "12                    31.100000                     929351.0   \n",
       "23                    29.466667                     171242.0   \n",
       "31                    45.200000                      20905.0   \n",
       "32                    29.010000                       8738.0   \n",
       "33                    23.200000                      53702.0   \n",
       "37                    36.900000                      39990.0   \n",
       "39                    30.600000                      15476.0   \n",
       "47                    37.800000                     103722.0   \n",
       "67                    32.300000                     124069.0   \n",
       "86                    32.840000                          NaN   \n",
       "100                   43.972500                          NaN   \n",
       "107                   37.940000                          NaN   \n",
       "111                   38.020000                          NaN   \n",
       "123                   57.535000                          NaN   \n",
       "125                   38.070000                          NaN   \n",
       "131                   33.497500                          NaN   \n",
       "134                   43.060000                          NaN   \n",
       "\n",
       "     All-cause death count, 2018  All-cause death count, 2019  \\\n",
       "0                        54394.0                      53821.0   \n",
       "1                        55076.0                      53805.0   \n",
       "3                         2247.0                       2261.0   \n",
       "5                        40716.0                      40500.0   \n",
       "8                        33053.0                      34088.0   \n",
       "12                      952295.0                     936772.0   \n",
       "23                      172784.0                     176296.0   \n",
       "31                       21282.0                      21446.0   \n",
       "32                        8866.0                       9552.0   \n",
       "33                       54137.0                      53115.0   \n",
       "37                       39452.0                      38184.0   \n",
       "39                       15684.0                      15332.0   \n",
       "47                      101655.0                     102131.0   \n",
       "67                      119952.0                     124538.0   \n",
       "86                           NaN                          NaN   \n",
       "100                          NaN                          NaN   \n",
       "107                          NaN                          NaN   \n",
       "111                          NaN                          NaN   \n",
       "123                          NaN                          NaN   \n",
       "125                          NaN                          NaN   \n",
       "131                          NaN                          NaN   \n",
       "134                          NaN                          NaN   \n",
       "\n",
       "     All-cause death count, 2020  \\\n",
       "0                        55663.0   \n",
       "1                        55477.0   \n",
       "3                         2321.0   \n",
       "5                        41155.0   \n",
       "8                        33177.0   \n",
       "12                     1000855.0   \n",
       "23                      173156.0   \n",
       "31                       22000.0   \n",
       "32                       11108.0   \n",
       "33                       60277.0   \n",
       "37                       43824.0   \n",
       "39                       16206.0   \n",
       "47                      114954.0   \n",
       "67                      132966.0   \n",
       "86                           NaN   \n",
       "100                          NaN   \n",
       "107                          NaN   \n",
       "111                          NaN   \n",
       "123                          NaN   \n",
       "125                          NaN   \n",
       "131                          NaN   \n",
       "134                          NaN   \n",
       "\n",
       "     Excess deaths in 2020 per 100,000 population, relative to 2017-2019 average  \n",
       "0                                            31.510042                            \n",
       "1                                            25.533773                            \n",
       "3                                            21.445267                            \n",
       "5                                             9.997681                            \n",
       "8                                            -7.563882                            \n",
       "12                                           73.548416                            \n",
       "23                                           -1.196181                            \n",
       "31                                           13.657712                            \n",
       "32                                          110.329376                            \n",
       "33                                          121.419106                            \n",
       "37                                          167.551971                            \n",
       "39                                           53.421223                            \n",
       "47                                          181.115997                            \n",
       "67                                           95.679260                            \n",
       "86                                                 NaN                            \n",
       "100                                                NaN                            \n",
       "107                                                NaN                            \n",
       "111                                                NaN                            \n",
       "123                                                NaN                            \n",
       "125                                                NaN                            \n",
       "131                                                NaN                            \n",
       "134                                                NaN                            "
      ]
     },
     "execution_count": 49,
     "metadata": {},
     "output_type": "execute_result"
    }
   ],
   "source": [
    "df[mask_female]"
   ]
  },
  {
   "cell_type": "code",
   "execution_count": null,
   "metadata": {},
   "outputs": [],
   "source": []
  },
  {
   "cell_type": "markdown",
   "metadata": {},
   "source": [
    "## Mean Age of across All Countries?"
   ]
  },
  {
   "cell_type": "code",
   "execution_count": 50,
   "metadata": {},
   "outputs": [
    {
     "data": {
      "text/plain": [
       "31.308219269530415"
      ]
     },
     "execution_count": 50,
     "metadata": {},
     "output_type": "execute_result"
    }
   ],
   "source": [
    "df[\"Median age\"].mean()"
   ]
  },
  {
   "cell_type": "code",
   "execution_count": 20,
   "metadata": {},
   "outputs": [
    {
     "data": {
      "text/plain": [
       "42.33333269755045"
      ]
     },
     "execution_count": 20,
     "metadata": {},
     "output_type": "execute_result"
    }
   ],
   "source": []
  },
  {
   "cell_type": "markdown",
   "metadata": {},
   "source": [
    "## Show All Columns for the Country with more deaths due to Covid per 100,000 people"
   ]
  },
  {
   "cell_type": "code",
   "execution_count": null,
   "metadata": {},
   "outputs": [],
   "source": []
  },
  {
   "cell_type": "code",
   "execution_count": 55,
   "metadata": {},
   "outputs": [],
   "source": [
    "mas = df.iloc[:, 5].idxmax()"
   ]
  },
  {
   "cell_type": "code",
   "execution_count": 58,
   "metadata": {},
   "outputs": [],
   "source": [
    "df.set_index('Country name', inplace=True)"
   ]
  },
  {
   "cell_type": "code",
   "execution_count": 62,
   "metadata": {},
   "outputs": [
    {
     "data": {
      "text/plain": [
       "Country name\n",
       "Finland        42.799999\n",
       "Denmark        42.299999\n",
       "Switzerland    43.099998\n",
       "Iceland        37.299999\n",
       "Netherlands    43.200001\n",
       "                 ...    \n",
       "Lesotho        24.000000\n",
       "Botswana       25.799999\n",
       "Rwanda         20.299999\n",
       "Zimbabwe       19.600000\n",
       "Afghanistan    18.600000\n",
       "Name: Median age, Length: 148, dtype: float64"
      ]
     },
     "execution_count": 62,
     "metadata": {},
     "output_type": "execute_result"
    }
   ],
   "source": [
    "df.iloc[:, 4]"
   ]
  },
  {
   "cell_type": "code",
   "execution_count": 63,
   "metadata": {},
   "outputs": [],
   "source": [
    "mas = df.iloc[:, 4].idxmax()"
   ]
  },
  {
   "cell_type": "code",
   "execution_count": 65,
   "metadata": {},
   "outputs": [
    {
     "data": {
      "text/plain": [
       "Regional indicator                                                               East Asia\n",
       "Population 2020                                                                126476458.0\n",
       "Population 2019                                                                126264931.0\n",
       "COVID-19 deaths per 100,000 population in 2020                                      2.6029\n",
       "Median age                                                                       48.200001\n",
       "Island                                                                                   1\n",
       "Index of exposure to COVID-19  infections in other countries as of March 31       0.862789\n",
       "Log of average distance to SARS countries                                         8.390191\n",
       "WHO Western Pacific Region                                                               1\n",
       "Female head of government                                                                0\n",
       "Index of institutional trust                                                      0.317466\n",
       "Gini coefficient of income                                                            33.9\n",
       "All-cause death count, 2017                                                      1340567.0\n",
       "All-cause death count, 2018                                                      1362470.0\n",
       "All-cause death count, 2019                                                      1387775.0\n",
       "All-cause death count, 2020                                                      1376426.0\n",
       "Excess deaths in 2020 per 100,000 population, relative to 2017-2019 average      10.146339\n",
       "Name: Japan, dtype: object"
      ]
     },
     "execution_count": 65,
     "metadata": {},
     "output_type": "execute_result"
    }
   ],
   "source": [
    "df.loc[mas, :]"
   ]
  },
  {
   "cell_type": "markdown",
   "metadata": {},
   "source": [
    "# Achieved Goals"
   ]
  },
  {
   "cell_type": "code",
   "execution_count": 66,
   "metadata": {},
   "outputs": [
    {
     "ename": "AttributeError",
     "evalue": "module 'pandas' has no attribute 'fly'",
     "output_type": "error",
     "traceback": [
      "\u001b[0;31m---------------------------------------------------------------------------\u001b[0m",
      "\u001b[0;31mAttributeError\u001b[0m                            Traceback (most recent call last)",
      "\u001b[0;32m/var/folders/24/tg28vxls25l9mjvqrnh0plc80000gn/T/ipykernel_40892/226539937.py\u001b[0m in \u001b[0;36m<module>\u001b[0;34m\u001b[0m\n\u001b[0;32m----> 1\u001b[0;31m \u001b[0mpd\u001b[0m\u001b[0;34m.\u001b[0m\u001b[0mfly\u001b[0m\u001b[0;34m(\u001b[0m\u001b[0;34m)\u001b[0m\u001b[0;34m\u001b[0m\u001b[0;34m\u001b[0m\u001b[0m\n\u001b[0m",
      "\u001b[0;32m~/miniforge3/lib/python3.9/site-packages/pandas/__init__.py\u001b[0m in \u001b[0;36m__getattr__\u001b[0;34m(name)\u001b[0m\n\u001b[1;32m    242\u001b[0m         \u001b[0;32mreturn\u001b[0m \u001b[0m_SparseArray\u001b[0m\u001b[0;34m\u001b[0m\u001b[0;34m\u001b[0m\u001b[0m\n\u001b[1;32m    243\u001b[0m \u001b[0;34m\u001b[0m\u001b[0m\n\u001b[0;32m--> 244\u001b[0;31m     \u001b[0;32mraise\u001b[0m \u001b[0mAttributeError\u001b[0m\u001b[0;34m(\u001b[0m\u001b[0;34mf\"module 'pandas' has no attribute '{name}'\"\u001b[0m\u001b[0;34m)\u001b[0m\u001b[0;34m\u001b[0m\u001b[0;34m\u001b[0m\u001b[0m\n\u001b[0m\u001b[1;32m    245\u001b[0m \u001b[0;34m\u001b[0m\u001b[0m\n\u001b[1;32m    246\u001b[0m \u001b[0;34m\u001b[0m\u001b[0m\n",
      "\u001b[0;31mAttributeError\u001b[0m: module 'pandas' has no attribute 'fly'"
     ]
    }
   ],
   "source": [
    "pd.fly()"
   ]
  },
  {
   "cell_type": "code",
   "execution_count": null,
   "metadata": {},
   "outputs": [],
   "source": [
    "pd.mean"
   ]
  },
  {
   "cell_type": "code",
   "execution_count": 67,
   "metadata": {},
   "outputs": [
    {
     "name": "stderr",
     "output_type": "stream",
     "text": [
      "/var/folders/24/tg28vxls25l9mjvqrnh0plc80000gn/T/ipykernel_40892/3698961737.py:1: FutureWarning: Dropping of nuisance columns in DataFrame reductions (with 'numeric_only=None') is deprecated; in a future version this will raise TypeError.  Select only valid columns before calling the reduction.\n",
      "  df.mean()\n"
     ]
    },
    {
     "data": {
      "text/plain": [
       "Population 2020                                                                5.099745e+07\n",
       "Population 2019                                                                5.023767e+07\n",
       "COVID-19 deaths per 100,000 population in 2020                                 3.299098e+01\n",
       "Median age                                                                     3.130822e+01\n",
       "Island                                                                         1.351351e-01\n",
       "Index of exposure to COVID-19  infections in other countries as of March 31    1.754309e+00\n",
       "Log of average distance to SARS countries                                      9.042569e+00\n",
       "WHO Western Pacific Region                                                     9.459459e-02\n",
       "Female head of government                                                      1.486486e-01\n",
       "Index of institutional trust                                                   3.097212e-01\n",
       "Gini coefficient of income                                                     3.741928e+01\n",
       "All-cause death count, 2017                                                    2.624683e+05\n",
       "All-cause death count, 2018                                                    2.623526e+05\n",
       "All-cause death count, 2019                                                    2.633587e+05\n",
       "All-cause death count, 2020                                                    3.077045e+05\n",
       "Excess deaths in 2020 per 100,000 population, relative to 2017-2019 average    1.119274e+02\n",
       "dtype: float64"
      ]
     },
     "execution_count": 67,
     "metadata": {},
     "output_type": "execute_result"
    }
   ],
   "source": [
    "df.mean()"
   ]
  },
  {
   "cell_type": "code",
   "execution_count": null,
   "metadata": {},
   "outputs": [],
   "source": [
    "pd.read_excel("
   ]
  },
  {
   "cell_type": "markdown",
   "metadata": {},
   "source": [
    "_Double click on **this cell** and place an `X` inside the square brackets (i.e., [X]) if you think you understand the goal:_\n",
    "\n",
    "- [X] Identify the **Elements of Programming** thanks to the syntax.\n",
    "- [X] Use `functions` that belongs to external `libraries`.\n",
    "- [] Get _the machine to work for you, not against you_.\n",
    "  - [X] `shift + tab` to ask help to Python.\n",
    "  - [X] `tab` to ask Python for suggestions.\n",
    "- [X] Understand that a `dog` doesn't make `miau()`. But, rather `guau()`... the same way a `DataFrame` cannot `fly()` (i.e., `DataFrame.fly()`?).\n",
    "- [X] All roads lead to Rome; We can achieve the **the same result with different lines of code**.\n",
    "  - We reproduced a scatterplot using 3 different lines of code."
   ]
  }
 ],
 "metadata": {
  "authors": [
   {
    "name": "Jesús López @sotastica"
   }
  ],
  "interpreter": {
   "hash": "414fd6d7c0f0aefb3d4e2db41edbeb0df03134e10d94a689550561b640a17652"
  },
  "kernelspec": {
   "display_name": "Python 3",
   "language": "python",
   "name": "python3"
  },
  "language_info": {
   "codemirror_mode": {
    "name": "ipython",
    "version": 3
   },
   "file_extension": ".py",
   "mimetype": "text/x-python",
   "name": "python",
   "nbconvert_exporter": "python",
   "pygments_lexer": "ipython3",
   "version": "3.7.6"
  }
 },
 "nbformat": 4,
 "nbformat_minor": 5
}
