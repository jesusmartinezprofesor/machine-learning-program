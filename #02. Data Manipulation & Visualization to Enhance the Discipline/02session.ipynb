{
 "cells": [
  {
   "cell_type": "markdown",
   "id": "fab03625",
   "metadata": {},
   "source": [
    "<font size=\"+5\">#02. Data Manipulation & Visualization to Enhance the Discipline</font>"
   ]
  },
  {
   "cell_type": "markdown",
   "id": "d59b8ec0",
   "metadata": {},
   "source": [
    "# Discipline to Search Solutions in Google"
   ]
  },
  {
   "cell_type": "markdown",
   "id": "957505af",
   "metadata": {},
   "source": [
    "> Apply the following steps when **looking for solutions in Google**:\n",
    ">\n",
    "> 1. **Necesity**: How to load an Excel in Python?\n",
    "> 2. **Search in Google**: by keywords\n",
    ">   - `load excel python`\n",
    ">   - ~~how to load excel in python~~\n",
    "> 3. **Solution**: What's the `function()` that loads an Excel in Python?\n",
    ">   - A Function to Programming is what the Atom to Phisics.\n",
    ">   - Every time you want to do something in programming\n",
    ">   - **You will need a `function()`** to make it\n",
    ">   - Theferore, you must **detect parenthesis `()`**\n",
    ">   - Out of all the words that you see in a website\n",
    ">   - Because they indicate the presence of a `function()`."
   ]
  },
  {
   "cell_type": "markdown",
   "id": "49db84a6",
   "metadata": {},
   "source": [
    "# Load the Data"
   ]
  },
  {
   "cell_type": "markdown",
   "id": "1f6c8d8a",
   "metadata": {},
   "source": [
    "> Download [this Excel](https://github.com/sotastica/data/raw/main/internet_usage_spain.xlsx).\n",
    "> Apply the above discipline and make it happen 🚀\n",
    "> I want to see the table, c'mon 👇"
   ]
  },
  {
   "cell_type": "code",
   "execution_count": null,
   "id": "2f33ecb9",
   "metadata": {},
   "outputs": [],
   "source": []
  },
  {
   "cell_type": "markdown",
   "id": "f77157fc",
   "metadata": {},
   "source": [
    "# `DataFrame` Manipulation"
   ]
  },
  {
   "cell_type": "markdown",
   "id": "49ad7f31",
   "metadata": {},
   "source": [
    "> Could we solve the following questions with a `DataFrame` **object**?"
   ]
  },
  {
   "cell_type": "markdown",
   "id": "00a4a668",
   "metadata": {},
   "source": [
    "## How many people are in each study category?"
   ]
  },
  {
   "cell_type": "code",
   "execution_count": null,
   "id": "8319fba0",
   "metadata": {},
   "outputs": [],
   "source": []
  },
  {
   "cell_type": "markdown",
   "id": "bdcc8022",
   "metadata": {},
   "source": [
    "## Age average by internet usage"
   ]
  },
  {
   "cell_type": "code",
   "execution_count": null,
   "id": "596ce101",
   "metadata": {},
   "outputs": [],
   "source": []
  },
  {
   "cell_type": "markdown",
   "id": "56de3735",
   "metadata": {},
   "source": [
    "## Age average by internet usage and gender"
   ]
  },
  {
   "cell_type": "code",
   "execution_count": null,
   "id": "5963958b",
   "metadata": {},
   "outputs": [],
   "source": []
  },
  {
   "cell_type": "markdown",
   "id": "92118f65",
   "metadata": {},
   "source": [
    "# Data Visualization with Python"
   ]
  },
  {
   "cell_type": "markdown",
   "id": "d2e8e40f",
   "metadata": {},
   "source": [
    "## Load Another Dataset"
   ]
  },
  {
   "cell_type": "markdown",
   "id": "7e9f863d",
   "metadata": {},
   "source": [
    "> We load this [csv file](https://raw.githubusercontent.com/mwaskom/seaborn-data/master/tips.csv).\n",
    "> ¿What does it mean `csv`?\n",
    "> ¿Why don't we use an `Excel` to better see the data?"
   ]
  },
  {
   "cell_type": "code",
   "execution_count": null,
   "id": "bae5d143",
   "metadata": {},
   "outputs": [],
   "source": []
  },
  {
   "cell_type": "markdown",
   "id": "ac247839",
   "metadata": {},
   "source": [
    "## Scatterplot"
   ]
  },
  {
   "cell_type": "markdown",
   "id": "972d5107",
   "metadata": {},
   "source": [
    "### With `Matplotlib` library"
   ]
  },
  {
   "cell_type": "markdown",
   "id": "bc6fb285",
   "metadata": {},
   "source": [
    "> Scatterplot"
   ]
  },
  {
   "cell_type": "code",
   "execution_count": null,
   "id": "a49a07ce",
   "metadata": {},
   "outputs": [],
   "source": []
  },
  {
   "cell_type": "markdown",
   "id": "071f45db",
   "metadata": {},
   "source": [
    "### With `Seaborn` library"
   ]
  },
  {
   "cell_type": "markdown",
   "id": "f9622261",
   "metadata": {},
   "source": [
    "> Scatterplot"
   ]
  },
  {
   "cell_type": "code",
   "execution_count": null,
   "id": "9018590b",
   "metadata": {},
   "outputs": [],
   "source": []
  },
  {
   "cell_type": "markdown",
   "id": "4e144a47",
   "metadata": {},
   "source": [
    "### With `Plotly` library"
   ]
  },
  {
   "cell_type": "markdown",
   "id": "a586f6cc",
   "metadata": {},
   "source": [
    "> Scatterplot"
   ]
  },
  {
   "cell_type": "code",
   "execution_count": null,
   "id": "95563c9c",
   "metadata": {},
   "outputs": [],
   "source": []
  },
  {
   "cell_type": "markdown",
   "id": "55837ea9",
   "metadata": {},
   "source": [
    "## Other Data Visualization Figures"
   ]
  },
  {
   "cell_type": "markdown",
   "id": "595a3a1e",
   "metadata": {},
   "source": [
    "### Histogram"
   ]
  },
  {
   "cell_type": "code",
   "execution_count": null,
   "id": "c6595009",
   "metadata": {},
   "outputs": [],
   "source": []
  },
  {
   "cell_type": "markdown",
   "id": "c974a729",
   "metadata": {},
   "source": [
    "### Boxplot"
   ]
  },
  {
   "cell_type": "code",
   "execution_count": null,
   "id": "0b4602d6",
   "metadata": {},
   "outputs": [],
   "source": []
  },
  {
   "cell_type": "markdown",
   "id": "87d931a8",
   "metadata": {},
   "source": [
    "### Bar Chart"
   ]
  },
  {
   "cell_type": "code",
   "execution_count": null,
   "id": "28d17e8f",
   "metadata": {},
   "outputs": [],
   "source": []
  },
  {
   "cell_type": "markdown",
   "id": "4a0c2898",
   "metadata": {},
   "source": [
    "### Pie Plot"
   ]
  },
  {
   "cell_type": "code",
   "execution_count": null,
   "id": "e917afa4",
   "metadata": {},
   "outputs": [],
   "source": []
  },
  {
   "cell_type": "markdown",
   "id": "3e1be911",
   "metadata": {},
   "source": [
    "### Maps"
   ]
  },
  {
   "cell_type": "code",
   "execution_count": null,
   "id": "a20888fa",
   "metadata": {},
   "outputs": [],
   "source": []
  }
 ],
 "metadata": {
  "authors": [
   {
    "name": "Jesús López @sotastica"
   }
  ],
  "interpreter": {
   "hash": "414fd6d7c0f0aefb3d4e2db41edbeb0df03134e10d94a689550561b640a17652"
  },
  "kernelspec": {
   "display_name": "Python 3 (ipykernel)",
   "language": "python",
   "name": "python3"
  },
  "language_info": {
   "codemirror_mode": {
    "name": "ipython",
    "version": 3
   },
   "file_extension": ".py",
   "mimetype": "text/x-python",
   "name": "python",
   "nbconvert_exporter": "python",
   "pygments_lexer": "ipython3",
   "version": "3.9.7"
  },
  "toc-autonumbering": true
 },
 "nbformat": 4,
 "nbformat_minor": 5
}
